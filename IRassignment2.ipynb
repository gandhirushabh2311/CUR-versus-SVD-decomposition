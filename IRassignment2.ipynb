{
 "cells": [
  {
   "cell_type": "code",
   "execution_count": 100,
   "metadata": {
    "collapsed": false
   },
   "outputs": [],
   "source": [
    "#Importing required libraries\n",
    "import pandas as pd\n",
    "import numpy as np\n",
    "from scipy.linalg import norm\n",
    "from scipy import linalg\n",
    "from scipy import sparse\n",
    "from scipy.sparse import linalg\n",
    "import time\n",
    "import matplotlib.pyplot as plt\n",
    "from sys import getsizeof\n",
    "plt.style.use('ggplot')\n",
    "%matplotlib inline"
   ]
  },
  {
   "cell_type": "markdown",
   "metadata": {},
   "source": [
    "# Data loading and Conversion to Utility Matrix\n",
    "The data is loaded into pandas dataframe and the relevant information is extracted to construct an MxN utility matrix in the form of a numpy matrix were M= No. of Users and N= No of movies."
   ]
  },
  {
   "cell_type": "code",
   "execution_count": 26,
   "metadata": {
    "collapsed": false
   },
   "outputs": [],
   "source": [
    "#reading the data into a pandas dataframe\n",
    "links=pd.read_csv('links.csv')\n",
    "ratings=pd.read_csv('ratings.csv')\n",
    "movies=pd.read_csv('movies.csv')\n",
    "tags=pd.read_csv('tags.csv')"
   ]
  },
  {
   "cell_type": "code",
   "execution_count": 27,
   "metadata": {
    "collapsed": false
   },
   "outputs": [
    {
     "data": {
      "text/html": [
       "<div>\n",
       "<table border=\"1\" class=\"dataframe\">\n",
       "  <thead>\n",
       "    <tr style=\"text-align: right;\">\n",
       "      <th></th>\n",
       "      <th>movieId</th>\n",
       "      <th>imdbId</th>\n",
       "      <th>tmdbId</th>\n",
       "    </tr>\n",
       "  </thead>\n",
       "  <tbody>\n",
       "    <tr>\n",
       "      <th>0</th>\n",
       "      <td>1</td>\n",
       "      <td>114709</td>\n",
       "      <td>862.0</td>\n",
       "    </tr>\n",
       "    <tr>\n",
       "      <th>1</th>\n",
       "      <td>2</td>\n",
       "      <td>113497</td>\n",
       "      <td>8844.0</td>\n",
       "    </tr>\n",
       "    <tr>\n",
       "      <th>2</th>\n",
       "      <td>3</td>\n",
       "      <td>113228</td>\n",
       "      <td>15602.0</td>\n",
       "    </tr>\n",
       "    <tr>\n",
       "      <th>3</th>\n",
       "      <td>4</td>\n",
       "      <td>114885</td>\n",
       "      <td>31357.0</td>\n",
       "    </tr>\n",
       "    <tr>\n",
       "      <th>4</th>\n",
       "      <td>5</td>\n",
       "      <td>113041</td>\n",
       "      <td>11862.0</td>\n",
       "    </tr>\n",
       "  </tbody>\n",
       "</table>\n",
       "</div>"
      ],
      "text/plain": [
       "   movieId  imdbId   tmdbId\n",
       "0        1  114709    862.0\n",
       "1        2  113497   8844.0\n",
       "2        3  113228  15602.0\n",
       "3        4  114885  31357.0\n",
       "4        5  113041  11862.0"
      ]
     },
     "execution_count": 27,
     "metadata": {},
     "output_type": "execute_result"
    }
   ],
   "source": [
    "links.head() "
   ]
  },
  {
   "cell_type": "code",
   "execution_count": 28,
   "metadata": {
    "collapsed": false
   },
   "outputs": [
    {
     "data": {
      "text/plain": [
       "(9125, 3)"
      ]
     },
     "execution_count": 28,
     "metadata": {},
     "output_type": "execute_result"
    }
   ],
   "source": [
    "links.shape # implies 9125 is the number of movies"
   ]
  },
  {
   "cell_type": "code",
   "execution_count": 29,
   "metadata": {
    "collapsed": false
   },
   "outputs": [
    {
     "data": {
      "text/html": [
       "<div>\n",
       "<table border=\"1\" class=\"dataframe\">\n",
       "  <thead>\n",
       "    <tr style=\"text-align: right;\">\n",
       "      <th></th>\n",
       "      <th>userId</th>\n",
       "      <th>movieId</th>\n",
       "      <th>rating</th>\n",
       "      <th>timestamp</th>\n",
       "    </tr>\n",
       "  </thead>\n",
       "  <tbody>\n",
       "    <tr>\n",
       "      <th>0</th>\n",
       "      <td>1</td>\n",
       "      <td>31</td>\n",
       "      <td>2.5</td>\n",
       "      <td>1260759144</td>\n",
       "    </tr>\n",
       "    <tr>\n",
       "      <th>1</th>\n",
       "      <td>1</td>\n",
       "      <td>1029</td>\n",
       "      <td>3.0</td>\n",
       "      <td>1260759179</td>\n",
       "    </tr>\n",
       "    <tr>\n",
       "      <th>2</th>\n",
       "      <td>1</td>\n",
       "      <td>1061</td>\n",
       "      <td>3.0</td>\n",
       "      <td>1260759182</td>\n",
       "    </tr>\n",
       "    <tr>\n",
       "      <th>3</th>\n",
       "      <td>1</td>\n",
       "      <td>1129</td>\n",
       "      <td>2.0</td>\n",
       "      <td>1260759185</td>\n",
       "    </tr>\n",
       "    <tr>\n",
       "      <th>4</th>\n",
       "      <td>1</td>\n",
       "      <td>1172</td>\n",
       "      <td>4.0</td>\n",
       "      <td>1260759205</td>\n",
       "    </tr>\n",
       "  </tbody>\n",
       "</table>\n",
       "</div>"
      ],
      "text/plain": [
       "   userId  movieId  rating   timestamp\n",
       "0       1       31     2.5  1260759144\n",
       "1       1     1029     3.0  1260759179\n",
       "2       1     1061     3.0  1260759182\n",
       "3       1     1129     2.0  1260759185\n",
       "4       1     1172     4.0  1260759205"
      ]
     },
     "execution_count": 29,
     "metadata": {},
     "output_type": "execute_result"
    }
   ],
   "source": [
    "ratings.head() # implies 100004 non zero values will be present in the matrix"
   ]
  },
  {
   "cell_type": "code",
   "execution_count": 30,
   "metadata": {
    "collapsed": false
   },
   "outputs": [
    {
     "data": {
      "text/plain": [
       "(100004, 4)"
      ]
     },
     "execution_count": 30,
     "metadata": {},
     "output_type": "execute_result"
    }
   ],
   "source": [
    "ratings.shape"
   ]
  },
  {
   "cell_type": "code",
   "execution_count": 31,
   "metadata": {
    "collapsed": false
   },
   "outputs": [
    {
     "data": {
      "text/html": [
       "<div>\n",
       "<table border=\"1\" class=\"dataframe\">\n",
       "  <thead>\n",
       "    <tr style=\"text-align: right;\">\n",
       "      <th></th>\n",
       "      <th>movieId</th>\n",
       "      <th>title</th>\n",
       "      <th>genres</th>\n",
       "    </tr>\n",
       "  </thead>\n",
       "  <tbody>\n",
       "    <tr>\n",
       "      <th>0</th>\n",
       "      <td>1</td>\n",
       "      <td>Toy Story (1995)</td>\n",
       "      <td>Adventure|Animation|Children|Comedy|Fantasy</td>\n",
       "    </tr>\n",
       "    <tr>\n",
       "      <th>1</th>\n",
       "      <td>2</td>\n",
       "      <td>Jumanji (1995)</td>\n",
       "      <td>Adventure|Children|Fantasy</td>\n",
       "    </tr>\n",
       "    <tr>\n",
       "      <th>2</th>\n",
       "      <td>3</td>\n",
       "      <td>Grumpier Old Men (1995)</td>\n",
       "      <td>Comedy|Romance</td>\n",
       "    </tr>\n",
       "    <tr>\n",
       "      <th>3</th>\n",
       "      <td>4</td>\n",
       "      <td>Waiting to Exhale (1995)</td>\n",
       "      <td>Comedy|Drama|Romance</td>\n",
       "    </tr>\n",
       "    <tr>\n",
       "      <th>4</th>\n",
       "      <td>5</td>\n",
       "      <td>Father of the Bride Part II (1995)</td>\n",
       "      <td>Comedy</td>\n",
       "    </tr>\n",
       "  </tbody>\n",
       "</table>\n",
       "</div>"
      ],
      "text/plain": [
       "   movieId                               title  \\\n",
       "0        1                    Toy Story (1995)   \n",
       "1        2                      Jumanji (1995)   \n",
       "2        3             Grumpier Old Men (1995)   \n",
       "3        4            Waiting to Exhale (1995)   \n",
       "4        5  Father of the Bride Part II (1995)   \n",
       "\n",
       "                                        genres  \n",
       "0  Adventure|Animation|Children|Comedy|Fantasy  \n",
       "1                   Adventure|Children|Fantasy  \n",
       "2                               Comedy|Romance  \n",
       "3                         Comedy|Drama|Romance  \n",
       "4                                       Comedy  "
      ]
     },
     "execution_count": 31,
     "metadata": {},
     "output_type": "execute_result"
    }
   ],
   "source": [
    "movies.head()"
   ]
  },
  {
   "cell_type": "code",
   "execution_count": 32,
   "metadata": {
    "collapsed": false,
    "scrolled": true
   },
   "outputs": [],
   "source": [
    "mov=movies['movieId'].tolist()"
   ]
  },
  {
   "cell_type": "code",
   "execution_count": 33,
   "metadata": {
    "collapsed": true
   },
   "outputs": [],
   "source": [
    "# dictionary idToIndex hashes movie id to a continuous index from 1 to 9125\n",
    "idToIndex={}             \n",
    "for i in xrange(len(mov)):\n",
    "    idToIndex[mov[i]]=i           "
   ]
  },
  {
   "cell_type": "code",
   "execution_count": 34,
   "metadata": {
    "collapsed": false
   },
   "outputs": [
    {
     "data": {
      "text/plain": [
       "9125"
      ]
     },
     "execution_count": 34,
     "metadata": {},
     "output_type": "execute_result"
    }
   ],
   "source": [
    "len(idToIndex.keys())"
   ]
  },
  {
   "cell_type": "code",
   "execution_count": 35,
   "metadata": {
    "collapsed": true
   },
   "outputs": [],
   "source": [
    "N=movies.shape[0] #N=number of columns in MxN utility matrix"
   ]
  },
  {
   "cell_type": "code",
   "execution_count": 36,
   "metadata": {
    "collapsed": false
   },
   "outputs": [
    {
     "data": {
      "text/html": [
       "<div>\n",
       "<table border=\"1\" class=\"dataframe\">\n",
       "  <thead>\n",
       "    <tr style=\"text-align: right;\">\n",
       "      <th></th>\n",
       "      <th>userId</th>\n",
       "      <th>movieId</th>\n",
       "      <th>tag</th>\n",
       "      <th>timestamp</th>\n",
       "    </tr>\n",
       "  </thead>\n",
       "  <tbody>\n",
       "    <tr>\n",
       "      <th>0</th>\n",
       "      <td>15</td>\n",
       "      <td>339</td>\n",
       "      <td>sandra 'boring' bullock</td>\n",
       "      <td>1138537770</td>\n",
       "    </tr>\n",
       "    <tr>\n",
       "      <th>1</th>\n",
       "      <td>15</td>\n",
       "      <td>1955</td>\n",
       "      <td>dentist</td>\n",
       "      <td>1193435061</td>\n",
       "    </tr>\n",
       "    <tr>\n",
       "      <th>2</th>\n",
       "      <td>15</td>\n",
       "      <td>7478</td>\n",
       "      <td>Cambodia</td>\n",
       "      <td>1170560997</td>\n",
       "    </tr>\n",
       "    <tr>\n",
       "      <th>3</th>\n",
       "      <td>15</td>\n",
       "      <td>32892</td>\n",
       "      <td>Russian</td>\n",
       "      <td>1170626366</td>\n",
       "    </tr>\n",
       "    <tr>\n",
       "      <th>4</th>\n",
       "      <td>15</td>\n",
       "      <td>34162</td>\n",
       "      <td>forgettable</td>\n",
       "      <td>1141391765</td>\n",
       "    </tr>\n",
       "  </tbody>\n",
       "</table>\n",
       "</div>"
      ],
      "text/plain": [
       "   userId  movieId                      tag   timestamp\n",
       "0      15      339  sandra 'boring' bullock  1138537770\n",
       "1      15     1955                  dentist  1193435061\n",
       "2      15     7478                 Cambodia  1170560997\n",
       "3      15    32892                  Russian  1170626366\n",
       "4      15    34162              forgettable  1141391765"
      ]
     },
     "execution_count": 36,
     "metadata": {},
     "output_type": "execute_result"
    }
   ],
   "source": [
    "tags.head()"
   ]
  },
  {
   "cell_type": "code",
   "execution_count": 37,
   "metadata": {
    "collapsed": false
   },
   "outputs": [],
   "source": [
    "M=671"
   ]
  },
  {
   "cell_type": "code",
   "execution_count": 38,
   "metadata": {
    "collapsed": false
   },
   "outputs": [],
   "source": [
    "#Finally constructing the matrix iterating over rows of ratings data frame\n",
    "A=np.zeros((M,N))\n",
    "for index, row in ratings.iterrows():\n",
    "    userid= int(row['userId'])\n",
    "    movieid=int(row['movieId'])\n",
    "    if idToIndex[movieid]<=9125:\n",
    "        A[userid-1,idToIndex[movieid]]=row['rating']\n",
    "    "
   ]
  },
  {
   "cell_type": "code",
   "execution_count": 39,
   "metadata": {
    "collapsed": false
   },
   "outputs": [
    {
     "data": {
      "text/plain": [
       "100004"
      ]
     },
     "execution_count": 39,
     "metadata": {},
     "output_type": "execute_result"
    }
   ],
   "source": [
    "np.count_nonzero(A)  #sanity check"
   ]
  },
  {
   "cell_type": "markdown",
   "metadata": {},
   "source": [
    "# Function to compute eigen values and eigen vectors\n",
    "For calculating SVD, we need the eigenpairs of AAT and ATA. A generalised power iteration function is used here to do that. Power iteration actually just calulates the principal eigenvector, but we iteratively keep on reducting the matrix to find eigenvectors corresponding to largest k eigenvalues."
   ]
  },
  {
   "cell_type": "code",
   "execution_count": 40,
   "metadata": {
    "collapsed": false
   },
   "outputs": [],
   "source": [
    "A=np.matrix(A)\n",
    "AAT=A*A.T\n",
    "ATA=A.T*A"
   ]
  },
  {
   "cell_type": "code",
   "execution_count": 42,
   "metadata": {
    "collapsed": true
   },
   "outputs": [],
   "source": [
    "# This function computes the eigenvalues and eigenvectors using power iteration method\n",
    "# Arguments:\n",
    "#     M: Square Matrix\n",
    "#     k: Number of eigenpairs we want to calculate\n",
    "# Returns:\n",
    "#     Val: list of k eigenvalues we want to calculate\n",
    "#     Vec: list of corresponding eigenvectors as numpy column arrays\n",
    "def getEigenPairs(M,k):\n",
    "    x=np.random.randn((M.shape[0]))\n",
    "    Val=[]\n",
    "    Vec=[]\n",
    "    x=x.reshape((M.shape[0],1)) \n",
    "    for i in xrange(k):\n",
    "        #M=np.matrix(M)\n",
    "        for run in xrange(1000):\n",
    "            V=M*x                \n",
    "            nor=norm(V)\n",
    "            if nor!=0:\n",
    "                \n",
    "                x_new=V/nor\n",
    "                x=x_new\n",
    "\n",
    "        eVec=x\n",
    "        y=x.reshape((1,M.shape[0]))\n",
    "        y=np.matrix(y)\n",
    "        x=x.reshape((M.shape[0],1))\n",
    "        x=np.matrix(x)\n",
    "\n",
    "        eVal=y*M*x\n",
    "        \n",
    "        eVal=np.asscalar(eVal)\n",
    "        if eVal>0.1:\n",
    "            \n",
    "            Val.append(eVal)\n",
    "            Vec.append(eVec)\n",
    "        else:\n",
    "            Val.append(0)\n",
    "            Vec.append(eVec)\n",
    "    \n",
    "        M=M-eVal*x*y   \n",
    "    return Val,Vec"
   ]
  },
  {
   "cell_type": "code",
   "execution_count": 44,
   "metadata": {
    "collapsed": true
   },
   "outputs": [],
   "source": [
    "def signU(A,u,v):\n",
    "    x=A*v\n",
    "    if x[0]/u[0]>0:\n",
    "        return 1\n",
    "    else:\n",
    "        return -1"
   ]
  },
  {
   "cell_type": "code",
   "execution_count": 45,
   "metadata": {
    "collapsed": false
   },
   "outputs": [],
   "source": [
    "# Calculates Singular Value Decomposition of the matrix.\n",
    "# Arguments:\n",
    "#     AAT,ATA:\n",
    "#         A*A(Transpose) and A(transpose)*A\n",
    "#     k: Rank of SVD we want to compute/ no of singular values we want to consider\n",
    "#         /No of latent dimensions we want to break our space into\n",
    "def SVD(A,AAT,ATA,k):  \n",
    "    \n",
    "    #Fetch eigenvalues and eigenvectors for AAT and ATA\n",
    "   \n",
    "    L1,V1=getEigenPairs(AAT,k)\n",
    "    L2,V2=getEigenPairs(ATA,k)\n",
    "    \n",
    "    print 'Eigenvectors and EigenValues calculated'\n",
    "    \n",
    "    print'proceeding...'\n",
    "    \n",
    "    \n",
    "    for i in xrange(k):\n",
    "            sgn=signU(A,V1[i],V2[i])\n",
    "            V1[i]=sgn*V1[i]\n",
    "        \n",
    "    \n",
    "    print 'stacking U and V matrices'\n",
    "    #Create U Matrix:\n",
    "    U=V1[0]\n",
    "    for i in xrange(1,len(V1)):\n",
    "        U=np.column_stack((U,V1[i]))\n",
    "        \n",
    "    \n",
    "    \n",
    "    #Create V matrix:\n",
    "    V=V2[0]\n",
    "    for i in xrange(1,len(V2)):\n",
    "        V=np.column_stack((V,V2[i]))\n",
    "        \n",
    "        \n",
    "        \n",
    "        \n",
    "    V=np.matrix(V)\n",
    "    U=np.matrix(U)\n",
    "    \n",
    "    \n",
    "    \n",
    "    \n",
    "    \n",
    "    \n",
    "    print 'constructing sigma matrix'    \n",
    "    #construct the sigma matrix:\n",
    "\n",
    "    sigma=np.zeros((k,k))\n",
    "    sigma=np.matrix(sigma)\n",
    "    for i in xrange(k):\n",
    "        if L1[i]>0:\n",
    "            sigma[i,i]=pow(L1[i],0.5)\n",
    "        else:\n",
    "            sigma[i,i]=0\n",
    "            \n",
    "        \n",
    "    sigma=np.matrix(sigma)\n",
    "    print 'done'\n",
    "    return U, sigma, V"
   ]
  },
  {
   "cell_type": "code",
   "execution_count": 48,
   "metadata": {
    "collapsed": true
   },
   "outputs": [],
   "source": [
    "#Sparse converting A, AAT and ATA into sparse csr matrices\n",
    "sA=sparse.csr_matrix(A)\n",
    "sAAT=sparse.csr_matrix(AAT)\n",
    "sATA=sparse.csr_matrix(ATA)"
   ]
  },
  {
   "cell_type": "code",
   "execution_count": 179,
   "metadata": {
    "collapsed": false
   },
   "outputs": [
    {
     "name": "stdout",
     "output_type": "stream",
     "text": [
      "Eigenvectors and EigenValues calculated\n",
      "proceeding...\n",
      "stacking U and V matrices\n",
      "constructing sigma matrix\n",
      "done\n",
      "time required to compute SVD for with rank 10:\n",
      "438.680305004\n",
      "Eigenvectors and EigenValues calculated\n",
      "proceeding...\n",
      "stacking U and V matrices\n",
      "constructing sigma matrix\n",
      "done\n",
      "time required to compute SVD for with rank 15:\n",
      "640.328330994\n",
      "Eigenvectors and EigenValues calculated\n",
      "proceeding...\n",
      "stacking U and V matrices\n",
      "constructing sigma matrix\n",
      "done\n",
      "time required to compute SVD for with rank 20:\n",
      "882.201025009\n",
      "Eigenvectors and EigenValues calculated\n",
      "proceeding...\n",
      "stacking U and V matrices\n",
      "constructing sigma matrix\n",
      "done\n",
      "time required to compute SVD for with rank 25:\n",
      "1087.63093901\n",
      "Eigenvectors and EigenValues calculated\n",
      "proceeding...\n",
      "stacking U and V matrices\n",
      "constructing sigma matrix\n",
      "done\n",
      "time required to compute SVD for with rank 30:\n",
      "1262.57298398\n",
      "Eigenvectors and EigenValues calculated\n",
      "proceeding...\n",
      "stacking U and V matrices\n",
      "constructing sigma matrix\n",
      "done\n",
      "time required to compute SVD for with rank 35:\n",
      "1476.96511602\n"
     ]
    }
   ],
   "source": [
    "#Tracking how the computation time increases with increase in k\n",
    "\n",
    "timeTrajectory=[]\n",
    "for i in xrange(10,40,5):\n",
    "    start = time.time()\n",
    "\n",
    "    u,s,v=SVD(AAT,ATA,i)\n",
    "\n",
    "\n",
    "    end = time.time()\n",
    "    print 'time required to compute SVD for with rank ' +str(i)+':'\n",
    "    deltaT=(end - start)\n",
    "    timeTrajectory.append(deltaT)\n",
    "    print deltaT\n",
    "    \n",
    "    "
   ]
  },
  {
   "cell_type": "code",
   "execution_count": 180,
   "metadata": {
    "collapsed": false
   },
   "outputs": [
    {
     "name": "stdout",
     "output_type": "stream",
     "text": [
      "Eigenvectors and EigenValues calculated\n",
      "proceeding...\n",
      "stacking U and V matrices\n",
      "constructing sigma matrix\n",
      "done\n",
      "time required to compute SVD for with rank 40:\n",
      "1791.36124611\n",
      "Eigenvectors and EigenValues calculated\n",
      "proceeding...\n",
      "stacking U and V matrices\n",
      "constructing sigma matrix\n",
      "done\n",
      "time required to compute SVD for with rank 45:\n",
      "2082.20022988\n",
      "Eigenvectors and EigenValues calculated\n",
      "proceeding...\n",
      "stacking U and V matrices\n",
      "constructing sigma matrix\n",
      "done\n",
      "time required to compute SVD for with rank 50:\n",
      "2179.87523603\n"
     ]
    },
    {
     "ename": "KeyboardInterrupt",
     "evalue": "",
     "output_type": "error",
     "traceback": [
      "\u001b[0;31m---------------------------------------------------------------------------\u001b[0m",
      "\u001b[0;31mKeyboardInterrupt\u001b[0m                         Traceback (most recent call last)",
      "\u001b[0;32m<ipython-input-180-da897485a644>\u001b[0m in \u001b[0;36m<module>\u001b[0;34m()\u001b[0m\n\u001b[1;32m      2\u001b[0m     \u001b[0mstart\u001b[0m \u001b[0;34m=\u001b[0m \u001b[0mtime\u001b[0m\u001b[0;34m.\u001b[0m\u001b[0mtime\u001b[0m\u001b[0;34m(\u001b[0m\u001b[0;34m)\u001b[0m\u001b[0;34m\u001b[0m\u001b[0m\n\u001b[1;32m      3\u001b[0m \u001b[0;34m\u001b[0m\u001b[0m\n\u001b[0;32m----> 4\u001b[0;31m     \u001b[0mu\u001b[0m\u001b[0;34m,\u001b[0m\u001b[0ms\u001b[0m\u001b[0;34m,\u001b[0m\u001b[0mv\u001b[0m\u001b[0;34m=\u001b[0m\u001b[0mSVD\u001b[0m\u001b[0;34m(\u001b[0m\u001b[0mAAT\u001b[0m\u001b[0;34m,\u001b[0m\u001b[0mATA\u001b[0m\u001b[0;34m,\u001b[0m\u001b[0mi\u001b[0m\u001b[0;34m)\u001b[0m\u001b[0;34m\u001b[0m\u001b[0m\n\u001b[0m\u001b[1;32m      5\u001b[0m \u001b[0;34m\u001b[0m\u001b[0m\n\u001b[1;32m      6\u001b[0m \u001b[0;34m\u001b[0m\u001b[0m\n",
      "\u001b[0;32m<ipython-input-154-7cb5287cc259>\u001b[0m in \u001b[0;36mSVD\u001b[0;34m(AAT, ATA, k)\u001b[0m\n\u001b[1;32m      4\u001b[0m \u001b[0;34m\u001b[0m\u001b[0m\n\u001b[1;32m      5\u001b[0m     \u001b[0mL1\u001b[0m\u001b[0;34m,\u001b[0m\u001b[0mV1\u001b[0m\u001b[0;34m=\u001b[0m\u001b[0mgetEigenPairs\u001b[0m\u001b[0;34m(\u001b[0m\u001b[0mAAT\u001b[0m\u001b[0;34m,\u001b[0m\u001b[0mk\u001b[0m\u001b[0;34m)\u001b[0m\u001b[0;34m\u001b[0m\u001b[0m\n\u001b[0;32m----> 6\u001b[0;31m     \u001b[0mL2\u001b[0m\u001b[0;34m,\u001b[0m\u001b[0mV2\u001b[0m\u001b[0;34m=\u001b[0m\u001b[0mgetEigenPairs\u001b[0m\u001b[0;34m(\u001b[0m\u001b[0mATA\u001b[0m\u001b[0;34m,\u001b[0m\u001b[0mk\u001b[0m\u001b[0;34m)\u001b[0m\u001b[0;34m\u001b[0m\u001b[0m\n\u001b[0m\u001b[1;32m      7\u001b[0m \u001b[0;34m\u001b[0m\u001b[0m\n\u001b[1;32m      8\u001b[0m     \u001b[0;32mprint\u001b[0m \u001b[0;34m'Eigenvectors and EigenValues calculated'\u001b[0m\u001b[0;34m\u001b[0m\u001b[0m\n",
      "\u001b[0;32m<ipython-input-142-eaad60f1acbc>\u001b[0m in \u001b[0;36mgetEigenPairs\u001b[0;34m(M, k)\u001b[0m\n\u001b[1;32m      7\u001b[0m         \u001b[0;31m#M=np.matrix(M)\u001b[0m\u001b[0;34m\u001b[0m\u001b[0;34m\u001b[0m\u001b[0m\n\u001b[1;32m      8\u001b[0m         \u001b[0;32mfor\u001b[0m \u001b[0mrun\u001b[0m \u001b[0;32min\u001b[0m \u001b[0mxrange\u001b[0m\u001b[0;34m(\u001b[0m\u001b[0;36m1000\u001b[0m\u001b[0;34m)\u001b[0m\u001b[0;34m:\u001b[0m\u001b[0;34m\u001b[0m\u001b[0m\n\u001b[0;32m----> 9\u001b[0;31m             \u001b[0mV\u001b[0m\u001b[0;34m=\u001b[0m\u001b[0mM\u001b[0m\u001b[0;34m*\u001b[0m\u001b[0mx\u001b[0m                \u001b[0;31m# 101x101 . 101x1\u001b[0m\u001b[0;34m\u001b[0m\u001b[0m\n\u001b[0m\u001b[1;32m     10\u001b[0m             \u001b[0mnor\u001b[0m\u001b[0;34m=\u001b[0m\u001b[0mnorm\u001b[0m\u001b[0;34m(\u001b[0m\u001b[0mV\u001b[0m\u001b[0;34m)\u001b[0m\u001b[0;34m\u001b[0m\u001b[0m\n\u001b[1;32m     11\u001b[0m             \u001b[0;32mif\u001b[0m \u001b[0mnor\u001b[0m\u001b[0;34m!=\u001b[0m\u001b[0;36m0\u001b[0m\u001b[0;34m:\u001b[0m\u001b[0;34m\u001b[0m\u001b[0m\n",
      "\u001b[0;32m/home/dada/anaconda2/lib/python2.7/site-packages/numpy/matrixlib/defmatrix.pyc\u001b[0m in \u001b[0;36m__mul__\u001b[0;34m(self, other)\u001b[0m\n\u001b[1;32m    341\u001b[0m         \u001b[0;32mif\u001b[0m \u001b[0misinstance\u001b[0m\u001b[0;34m(\u001b[0m\u001b[0mother\u001b[0m\u001b[0;34m,\u001b[0m \u001b[0;34m(\u001b[0m\u001b[0mN\u001b[0m\u001b[0;34m.\u001b[0m\u001b[0mndarray\u001b[0m\u001b[0;34m,\u001b[0m \u001b[0mlist\u001b[0m\u001b[0;34m,\u001b[0m \u001b[0mtuple\u001b[0m\u001b[0;34m)\u001b[0m\u001b[0;34m)\u001b[0m \u001b[0;34m:\u001b[0m\u001b[0;34m\u001b[0m\u001b[0m\n\u001b[1;32m    342\u001b[0m             \u001b[0;31m# This promotes 1-D vectors to row vectors\u001b[0m\u001b[0;34m\u001b[0m\u001b[0;34m\u001b[0m\u001b[0m\n\u001b[0;32m--> 343\u001b[0;31m             \u001b[0;32mreturn\u001b[0m \u001b[0mN\u001b[0m\u001b[0;34m.\u001b[0m\u001b[0mdot\u001b[0m\u001b[0;34m(\u001b[0m\u001b[0mself\u001b[0m\u001b[0;34m,\u001b[0m \u001b[0masmatrix\u001b[0m\u001b[0;34m(\u001b[0m\u001b[0mother\u001b[0m\u001b[0;34m)\u001b[0m\u001b[0;34m)\u001b[0m\u001b[0;34m\u001b[0m\u001b[0m\n\u001b[0m\u001b[1;32m    344\u001b[0m         \u001b[0;32mif\u001b[0m \u001b[0misscalar\u001b[0m\u001b[0;34m(\u001b[0m\u001b[0mother\u001b[0m\u001b[0;34m)\u001b[0m \u001b[0;32mor\u001b[0m \u001b[0;32mnot\u001b[0m \u001b[0mhasattr\u001b[0m\u001b[0;34m(\u001b[0m\u001b[0mother\u001b[0m\u001b[0;34m,\u001b[0m \u001b[0;34m'__rmul__'\u001b[0m\u001b[0;34m)\u001b[0m \u001b[0;34m:\u001b[0m\u001b[0;34m\u001b[0m\u001b[0m\n\u001b[1;32m    345\u001b[0m             \u001b[0;32mreturn\u001b[0m \u001b[0mN\u001b[0m\u001b[0;34m.\u001b[0m\u001b[0mdot\u001b[0m\u001b[0;34m(\u001b[0m\u001b[0mself\u001b[0m\u001b[0;34m,\u001b[0m \u001b[0mother\u001b[0m\u001b[0;34m)\u001b[0m\u001b[0;34m\u001b[0m\u001b[0m\n",
      "\u001b[0;31mKeyboardInterrupt\u001b[0m: "
     ]
    }
   ],
   "source": [
    "for i in xrange(40,80,5):\n",
    "    start = time.time()\n",
    "\n",
    "    u,s,v=SVD(AAT,ATA,i)\n",
    "\n",
    "\n",
    "    end = time.time()\n",
    "    print 'time required to compute SVD for with rank ' +str(i)+':'\n",
    "    deltaT=(end - start)\n",
    "    timeTrajectory.append(deltaT)\n",
    "    print deltaT"
   ]
  },
  {
   "cell_type": "code",
   "execution_count": 221,
   "metadata": {
    "collapsed": false
   },
   "outputs": [
    {
     "data": {
      "image/png": "[encoded data removed]",
      "text/plain": [
       "<matplotlib.figure.Figure at 0x7f61cbfd75d0>"
      ]
     },
     "metadata": {},
     "output_type": "display_data"
    }
   ],
   "source": [
    "#plot of computation time in seconds versus the value of k. Clearly more time will be required for\n",
    "#large k values\n",
    "plt.plot([10,15,20,25,30,35,40,45,50], timeTrajectory, 'ro')\n",
    "plt.axis([0, 100, 400, 2000])\n",
    "plt.xlabel('rank')\n",
    "plt.ylabel('time required in seconds for computation (secs)')\n",
    "plt.show()"
   ]
  },
  {
   "cell_type": "markdown",
   "metadata": {},
   "source": [
    "# CUR Decomposition\n"
   ]
  },
  {
   "cell_type": "code",
   "execution_count": 49,
   "metadata": {
    "collapsed": true
   },
   "outputs": [],
   "source": [
    "#for C and R matrices of o\n",
    "\n",
    "\n",
    "#pf for rows:\n",
    "pfr=[]\n",
    "for i in xrange(A.shape[0]):\n",
    "    arr=A[i,:]\n",
    "    p=np.linalg.norm(arr)\n",
    "    pfr.append(p)\n",
    "total=sum(pfr)\n",
    "for i in xrange(len(pfr)):\n",
    "    pfr[i]=pfr[i]/total\n",
    "    \n",
    "    \n",
    "   \n",
    "pfc=[]\n",
    "for i in xrange(A.shape[1]):\n",
    "    arr=A[:,i]\n",
    "    p=np.linalg.norm(arr)\n",
    "    pfc.append(p)  \n",
    "total=sum(pfc)\n",
    "for i in xrange(len(pfc)):\n",
    "    pfc[i]=pfc[i]/total"
   ]
  },
  {
   "cell_type": "code",
   "execution_count": 50,
   "metadata": {
    "collapsed": false
   },
   "outputs": [
    {
     "data": {
      "text/plain": [
       "1.0000000000000007"
      ]
     },
     "execution_count": 50,
     "metadata": {},
     "output_type": "execute_result"
    }
   ],
   "source": [
    "sum(pfr)  #sanity check"
   ]
  },
  {
   "cell_type": "code",
   "execution_count": 51,
   "metadata": {
    "collapsed": false
   },
   "outputs": [
    {
     "data": {
      "text/plain": [
       "1.0000000000000051"
      ]
     },
     "execution_count": 51,
     "metadata": {},
     "output_type": "execute_result"
    }
   ],
   "source": [
    "sum(pfc)   #sanity check"
   ]
  },
  {
   "cell_type": "code",
   "execution_count": 55,
   "metadata": {
    "collapsed": false
   },
   "outputs": [],
   "source": [
    "def getU(W):\n",
    "    WWT=W*W.T\n",
    "    WTW=W.T*W\n",
    "    u,s,v=SVD(W,WWT,WTW,W.shape[0])\n",
    "    for i in xrange(s.shape[0]):\n",
    "        if s[i,i]!=0:\n",
    "            s[i,i]=1.0/s[i,i]\n",
    "    s=np.power(s,2)\n",
    "    return v*s*u.T"
   ]
  },
  {
   "cell_type": "code",
   "execution_count": 56,
   "metadata": {
    "collapsed": false
   },
   "outputs": [],
   "source": [
    "def getCUR(A,r):\n",
    "    rowIndex=np.random.choice(A.shape[0],r,pfr)\n",
    "    columnIndex=np.random.choice(A.shape[1],r,pfc)\n",
    "    \n",
    "    C=A[:,columnIndex[0]]\n",
    "    columnIndex2=columnIndex[1:]\n",
    "    for index in columnIndex2:\n",
    "        C=np.column_stack((C,A[:,index]))\n",
    "    \n",
    "    R=A[rowIndex[0],:]\n",
    "    rowIndex2=rowIndex[1:]\n",
    "    for index in rowIndex2:\n",
    "        R=np.vstack((R,A[index,:]))\n",
    "        \n",
    "    W=np.zeros((r,r))\n",
    "    W=np.matrix(W)\n",
    "    for i in xrange(W.shape[0]):\n",
    "        for j in xrange(W.shape[1]):\n",
    "            row=rowIndex[i]\n",
    "            column=columnIndex[j]\n",
    "            W[i,j]=A[row,column]\n",
    "    W2=getU(W)        \n",
    "    return C, W2, R\n",
    "    \n",
    "\n",
    " "
   ]
  },
  {
   "cell_type": "code",
   "execution_count": 57,
   "metadata": {
    "collapsed": false
   },
   "outputs": [
    {
     "name": "stdout",
     "output_type": "stream",
     "text": [
      "Eigenvectors and EigenValues calculated\n",
      "proceeding...\n",
      "stacking U and V matrices\n",
      "constructing sigma matrix\n",
      "done\n"
     ]
    }
   ],
   "source": [
    "C,W,R=getCUR(A,100)"
   ]
  },
  {
   "cell_type": "code",
   "execution_count": 58,
   "metadata": {
    "collapsed": false
   },
   "outputs": [
    {
     "data": {
      "text/plain": [
       "(671, 100)"
      ]
     },
     "execution_count": 58,
     "metadata": {},
     "output_type": "execute_result"
    }
   ],
   "source": [
    "C.shape"
   ]
  },
  {
   "cell_type": "code",
   "execution_count": 59,
   "metadata": {
    "collapsed": false,
    "scrolled": true
   },
   "outputs": [
    {
     "data": {
      "text/plain": [
       "(100, 9125)"
      ]
     },
     "execution_count": 59,
     "metadata": {},
     "output_type": "execute_result"
    }
   ],
   "source": [
    "R.shape"
   ]
  },
  {
   "cell_type": "code",
   "execution_count": 60,
   "metadata": {
    "collapsed": false
   },
   "outputs": [
    {
     "data": {
      "text/plain": [
       "(100, 100)"
      ]
     },
     "execution_count": 60,
     "metadata": {},
     "output_type": "execute_result"
    }
   ],
   "source": [
    "W.shape"
   ]
  },
  {
   "cell_type": "code",
   "execution_count": 62,
   "metadata": {
    "collapsed": false
   },
   "outputs": [
    {
     "data": {
      "text/plain": [
       "1201.217394393673"
      ]
     },
     "execution_count": 62,
     "metadata": {},
     "output_type": "execute_result"
    }
   ],
   "source": [
    "norm(A-C*W*R)"
   ]
  },
  {
   "cell_type": "code",
   "execution_count": 63,
   "metadata": {
    "collapsed": false
   },
   "outputs": [
    {
     "name": "stdout",
     "output_type": "stream",
     "text": [
      "Eigenvectors and EigenValues calculated\n",
      "proceeding...\n",
      "stacking U and V matrices\n",
      "constructing sigma matrix\n",
      "done\n",
      "time required to compute CUR for with rank 20:\n",
      "0.794549942017\n",
      "Eigenvectors and EigenValues calculated\n",
      "proceeding...\n",
      "stacking U and V matrices\n",
      "constructing sigma matrix\n",
      "done\n",
      "time required to compute CUR for with rank 40:\n",
      "1.7839319706\n",
      "Eigenvectors and EigenValues calculated\n",
      "proceeding...\n",
      "stacking U and V matrices\n",
      "constructing sigma matrix\n",
      "done\n",
      "time required to compute CUR for with rank 60:\n",
      "2.84851717949\n",
      "Eigenvectors and EigenValues calculated\n",
      "proceeding...\n",
      "stacking U and V matrices\n",
      "constructing sigma matrix\n",
      "done\n",
      "time required to compute CUR for with rank 80:\n",
      "4.1482629776\n",
      "Eigenvectors and EigenValues calculated\n",
      "proceeding...\n",
      "stacking U and V matrices\n",
      "constructing sigma matrix\n",
      "done\n",
      "time required to compute CUR for with rank 100:\n",
      "5.33988904953\n",
      "Eigenvectors and EigenValues calculated\n",
      "proceeding...\n",
      "stacking U and V matrices\n",
      "constructing sigma matrix\n",
      "done\n",
      "time required to compute CUR for with rank 120:\n",
      "8.12874412537\n",
      "Eigenvectors and EigenValues calculated\n",
      "proceeding...\n",
      "stacking U and V matrices\n",
      "constructing sigma matrix\n",
      "done\n",
      "time required to compute CUR for with rank 140:\n",
      "8.58459305763\n",
      "Eigenvectors and EigenValues calculated\n",
      "proceeding...\n",
      "stacking U and V matrices\n",
      "constructing sigma matrix\n",
      "done\n",
      "time required to compute CUR for with rank 160:\n",
      "10.2071251869\n",
      "Eigenvectors and EigenValues calculated\n",
      "proceeding...\n",
      "stacking U and V matrices\n",
      "constructing sigma matrix\n",
      "done\n",
      "time required to compute CUR for with rank 180:\n",
      "13.7213289738\n"
     ]
    }
   ],
   "source": [
    "timeTrajectoryCUR=[]\n",
    "for i in xrange(20,200,20):\n",
    "    start = time.time()\n",
    "\n",
    "    c,u,r=getCUR(A,i)\n",
    "\n",
    "\n",
    "    end = time.time()\n",
    "    print 'time required to compute CUR for with rank ' +str(i)+':'\n",
    "    deltaT=(end - start)\n",
    "    timeTrajectoryCUR.append(deltaT)\n",
    "    print deltaT\n",
    "    "
   ]
  },
  {
   "cell_type": "code",
   "execution_count": 223,
   "metadata": {
    "collapsed": false,
    "scrolled": false
   },
   "outputs": [
    {
     "data": {
      "image/png": "[encoded data removed]",
      "text/plain": [
       "<matplotlib.figure.Figure at 0x7f6191d02d90>"
      ]
     },
     "metadata": {},
     "output_type": "display_data"
    }
   ],
   "source": [
    "plt.plot([20,40,60,80,100,120,140,160,180], timeTrajectoryCUR, 'ro')\n",
    "plt.axis([0,200 , 0, 0.5])\n",
    "plt.xlabel('rank')\n",
    "plt.ylabel('time required in seconds for computation (secs)')\n",
    "plt.show()"
   ]
  },
  {
   "cell_type": "code",
   "execution_count": 65,
   "metadata": {
    "collapsed": false,
    "scrolled": true
   },
   "outputs": [
    {
     "name": "stdout",
     "output_type": "stream",
     "text": [
      "Eigenvectors and EigenValues calculated\n",
      "proceeding...\n",
      "stacking U and V matrices\n",
      "constructing sigma matrix\n",
      "done\n",
      "Eigenvectors and EigenValues calculated\n",
      "proceeding...\n",
      "stacking U and V matrices\n",
      "constructing sigma matrix\n",
      "done\n",
      "Eigenvectors and EigenValues calculated\n",
      "proceeding...\n",
      "stacking U and V matrices\n",
      "constructing sigma matrix\n",
      "done\n",
      "Eigenvectors and EigenValues calculated\n",
      "proceeding...\n",
      "stacking U and V matrices\n",
      "constructing sigma matrix\n",
      "done\n",
      "Eigenvectors and EigenValues calculated\n",
      "proceeding...\n",
      "stacking U and V matrices\n",
      "constructing sigma matrix\n",
      "done\n",
      "Eigenvectors and EigenValues calculated\n",
      "proceeding...\n",
      "stacking U and V matrices\n",
      "constructing sigma matrix\n",
      "done\n",
      "Eigenvectors and EigenValues calculated\n",
      "proceeding...\n",
      "stacking U and V matrices\n",
      "constructing sigma matrix\n",
      "done\n",
      "Eigenvectors and EigenValues calculated\n",
      "proceeding...\n",
      "stacking U and V matrices\n",
      "constructing sigma matrix\n",
      "done\n"
     ]
    }
   ],
   "source": [
    "memoryTrajectory=[]\n",
    "memoryTrajectoryCUR=[]\n",
    "reconsError=[]\n",
    "reconsErrorCUR=[]\n",
    "\n",
    "for i in xrange(10,50,10):\n",
    "    \n",
    "    c,u,r=getCUR(A,i)\n",
    "    U,S,V=SVD(A,AAT,ATA,i)\n",
    "    A_rec_svd=U*S*V.T\n",
    "    A_rec_cur=c*u*r\n",
    "\n",
    "    errSVD=norm(A-A_rec_svd)\n",
    "    errCUR=norm(A-A_rec_cur)\n",
    "    \n",
    "    c=sparse.csr_matrix(c)\n",
    "    u=sparse.csr_matrix(u)\n",
    "    r=sparse.csr_matrix(r)\n",
    "    \n",
    "    memCUR=getsizeof(c)+getsizeof(u)+getsizeof(r)\n",
    "    memSVD=getsizeof(U)+getsizeof(S)+getsizeof(V)\n",
    "    \n",
    "    memoryTrajectory.append(memSVD)\n",
    "    memoryTrajectoryCUR.append(memCUR)\n",
    "    \n",
    "    reconsError.append(errSVD)\n",
    "    reconsErrorCUR.append(errCUR)\n",
    "\n",
    "    \n",
    "    \n",
    "    \n",
    "    "
   ]
  },
  {
   "cell_type": "markdown",
   "metadata": {},
   "source": [
    "# Comparison of SVD and CUR\n",
    "## Memory:\n",
    "Since CUR can be represented by sparse matrices, it requires much less memory and remains almost constant with increase in rank. In SVD however, memory requirement explodes with increase in the value of k and is very large even at small values of k as U and V are dense matrices.\n",
    "## Reconstruction error:\n",
    "Reconstruction error of SVD is less than that of CUR, but CUR performs reasonably well.\n",
    "## Time Complexity:\n",
    "Time complexity of both CUR and SVD increases with increase in the value of k, however, the order of complexity of CUR is much less than that of SVD. For example, while SVD takes about 10 minutes to calculate a SVD with rank 10, CUR does it in fraction of second."
   ]
  },
  {
   "cell_type": "code",
   "execution_count": 66,
   "metadata": {
    "collapsed": false
   },
   "outputs": [
    {
     "data": {
      "text/plain": [
       "[784912, 1570992, 2358672, 3147952]"
      ]
     },
     "execution_count": 66,
     "metadata": {},
     "output_type": "execute_result"
    }
   ],
   "source": [
    "memoryTrajectory  #memory trajectory of SVD"
   ]
  },
  {
   "cell_type": "code",
   "execution_count": 67,
   "metadata": {
    "collapsed": false
   },
   "outputs": [
    {
     "data": {
      "text/plain": [
       "[192, 192, 192, 192]"
      ]
     },
     "execution_count": 67,
     "metadata": {},
     "output_type": "execute_result"
    }
   ],
   "source": [
    "memoryTrajectoryCUR  #memory trajectory of CUR (Note the vast difference)"
   ]
  },
  {
   "cell_type": "code",
   "execution_count": 68,
   "metadata": {
    "collapsed": false
   },
   "outputs": [
    {
     "data": {
      "text/plain": [
       "[930.1946896909343, 877.3886542096908, 838.15588910903455, 803.65949416442879]"
      ]
     },
     "execution_count": 68,
     "metadata": {},
     "output_type": "execute_result"
    }
   ],
   "source": [
    "reconsError"
   ]
  },
  {
   "cell_type": "code",
   "execution_count": 69,
   "metadata": {
    "collapsed": false
   },
   "outputs": [
    {
     "data": {
      "text/plain": [
       "[1168.5563241521779,\n",
       " 1163.5248580282025,\n",
       " 1173.3326843703201,\n",
       " 1266.8257002000437]"
      ]
     },
     "execution_count": 69,
     "metadata": {},
     "output_type": "execute_result"
    }
   ],
   "source": [
    "reconsErrorCUR"
   ]
  },
  {
   "cell_type": "code",
   "execution_count": 70,
   "metadata": {
    "collapsed": false
   },
   "outputs": [
    {
     "data": {
      "image/png": "[encoded data removed]",
      "text/plain": [
       "<matplotlib.figure.Figure at 0x7f3f55bbfb50>"
      ]
     },
     "metadata": {},
     "output_type": "display_data"
    }
   ],
   "source": [
    "plt.plot([10,20,30,40], reconsError, 'ro') #Red circles represent SVD\n",
    "plt.plot([10,20,30,40], reconsErrorCUR, 'bs') #Blue squares represent CUR\n",
    "plt.axis([0,50,500,2000])\n",
    "plt.xlabel('rank')\n",
    "plt.ylabel('reconstruction error')\n",
    "plt.show()\n"
   ]
  },
  {
   "cell_type": "code",
   "execution_count": 77,
   "metadata": {
    "collapsed": false
   },
   "outputs": [
    {
     "data": {
      "image/png": "[encoded data removed]",
      "text/plain": [
       "<matplotlib.figure.Figure at 0x7f3f5cf18990>"
      ]
     },
     "metadata": {},
     "output_type": "display_data"
    }
   ],
   "source": [
    "plt.plot([10,20,30,40], memoryTrajectory, 'ro') \n",
    "plt.axis([5,50,200000,5000000])\n",
    "plt.xlabel('rank')\n",
    "plt.ylabel('space requirement of SVD')\n",
    "plt.show()"
   ]
  },
  {
   "cell_type": "code",
   "execution_count": 82,
   "metadata": {
    "collapsed": false
   },
   "outputs": [
    {
     "data": {
      "image/png": "[encoded data removed]",
      "text/plain": [
       "<matplotlib.figure.Figure at 0x7f3f5d0ca990>"
      ]
     },
     "metadata": {},
     "output_type": "display_data"
    }
   ],
   "source": [
    "plt.plot([10,20,30,40], memoryTrajectoryCUR, 'bs') \n",
    "plt.axis([5,50,50,300])\n",
    "plt.xlabel('rank')\n",
    "plt.ylabel('space requirement of CUR')\n",
    "plt.show()"
   ]
  },
  {
   "cell_type": "markdown",
   "metadata": {},
   "source": [
    "# Visualizing SVD for a small test matrix"
   ]
  },
  {
   "cell_type": "code",
   "execution_count": 91,
   "metadata": {
    "collapsed": true
   },
   "outputs": [],
   "source": [
    "t=[[2,3,4,56],[2,3,7,6],[1,2,4,5],[1,2,4,5],[2,7,0,56],[55,45,66,9],[3,4,5,1]]\n",
    "t=np.matrix(t)"
   ]
  },
  {
   "cell_type": "code",
   "execution_count": 92,
   "metadata": {
    "collapsed": false
   },
   "outputs": [
    {
     "name": "stdout",
     "output_type": "stream",
     "text": [
      "Eigenvectors and EigenValues calculated\n",
      "proceeding...\n",
      "stacking U and V matrices\n",
      "constructing sigma matrix\n",
      "done\n"
     ]
    }
   ],
   "source": [
    "x,y,z=SVD(t,t*t.T,t.T*t,4)"
   ]
  },
  {
   "cell_type": "code",
   "execution_count": 96,
   "metadata": {
    "collapsed": true
   },
   "outputs": [],
   "source": [
    "t_r=x*y*z.T"
   ]
  },
  {
   "cell_type": "code",
   "execution_count": 97,
   "metadata": {
    "collapsed": false
   },
   "outputs": [
    {
     "data": {
      "text/plain": [
       "3.0438760146533728e-13"
      ]
     },
     "execution_count": 97,
     "metadata": {},
     "output_type": "execute_result"
    }
   ],
   "source": [
    "norm(t-t_r)"
   ]
  },
  {
   "cell_type": "code",
   "execution_count": 98,
   "metadata": {
    "collapsed": false
   },
   "outputs": [
    {
     "data": {
      "text/plain": [
       "matrix([[  2.00000000e+00,   3.00000000e+00,   4.00000000e+00,\n",
       "           5.60000000e+01],\n",
       "        [  2.00000000e+00,   3.00000000e+00,   7.00000000e+00,\n",
       "           6.00000000e+00],\n",
       "        [  1.00000000e+00,   2.00000000e+00,   4.00000000e+00,\n",
       "           5.00000000e+00],\n",
       "        [  1.00000000e+00,   2.00000000e+00,   4.00000000e+00,\n",
       "           5.00000000e+00],\n",
       "        [  2.00000000e+00,   7.00000000e+00,   1.34336986e-13,\n",
       "           5.60000000e+01],\n",
       "        [  5.50000000e+01,   4.50000000e+01,   6.60000000e+01,\n",
       "           9.00000000e+00],\n",
       "        [  3.00000000e+00,   4.00000000e+00,   5.00000000e+00,\n",
       "           1.00000000e+00]])"
      ]
     },
     "execution_count": 98,
     "metadata": {},
     "output_type": "execute_result"
    }
   ],
   "source": [
    "t_r"
   ]
  },
  {
   "cell_type": "code",
   "execution_count": null,
   "metadata": {
    "collapsed": true
   },
   "outputs": [],
   "source": []
  }
 ],
 "metadata": {
  "anaconda-cloud": {},
  "kernelspec": {
   "display_name": "Python [conda root]",
   "language": "python",
   "name": "conda-root-py"
  },
  "language_info": {
   "codemirror_mode": {
    "name": "ipython",
    "version": 2
   },
   "file_extension": ".py",
   "mimetype": "text/x-python",
   "name": "python",
   "nbconvert_exporter": "python",
   "pygments_lexer": "ipython2",
   "version": "2.7.12"
  }
 },
 "nbformat": 4,
 "nbformat_minor": 0
}
